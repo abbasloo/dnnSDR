{
 "cells": [
  {
   "cell_type": "code",
   "execution_count": 1,
   "metadata": {},
   "outputs": [],
   "source": [
    "%matplotlib inline\n",
    "import pandas as pd\n",
    "import numpy as np\n",
    "import matplotlib.pyplot as plt\n",
    "import sys\n",
    "from sklearn.preprocessing import label_binarize\n",
    "from itertools import cycle\n",
    "from sklearn.preprocessing import normalize\n",
    "from scipy import interp\n",
    "from sklearn import svm\n",
    "from sklearn.model_selection import train_test_split\n",
    "from sklearn.multiclass import OneVsRestClassifier\n",
    "from sklearn.metrics import roc_curve, auc\n",
    "from sklearn.pipeline import Pipeline\n",
    "sys.path.append('/home/lolo/Desktop/dnnComm/vde/vde/')\n",
    "from vde import VDE \n",
    "\n",
    "\n",
    "\n",
    "name= '/home/lolo/Desktop/dnnComm/RML2016.10a_dict.pkl'\n",
    "data = pd.read_pickle(name)"
   ]
  },
  {
   "cell_type": "code",
   "execution_count": 2,
   "metadata": {},
   "outputs": [],
   "source": [
    "list = []\n",
    "for d in data:\n",
    "    list.append(d)    "
   ]
  },
  {
   "cell_type": "code",
   "execution_count": 3,
   "metadata": {},
   "outputs": [
    {
     "name": "stdout",
     "output_type": "stream",
     "text": [
      "samples,features (128, 16)\n",
      "#data 11000\n"
     ]
    }
   ],
   "source": [
    "# what is the best normalization strategy?\n",
    "# time-lag is considered in features, data augmentation and cost funstion.\n",
    "lag_time = 8\n",
    "trajs = []\n",
    "stride = 20\n",
    "for l in range(len(list)):\n",
    "    d = data[list[l]]\n",
    "    for i in range(0, len(d), stride):\n",
    "        dd = normalize(d[i, :, :], axis=1, norm='l2').T\n",
    "        #dd = normalize(dd[i, : :], axis=0, norm='l2')\n",
    "        #dd = d[i, :, :].T\n",
    "        Dt = dd.shape\n",
    "        dddd = dd\n",
    "        for t in range(1, lag_time):\n",
    "            ddd = np.zeros(Dt)\n",
    "            ddd[:-t] = dd[:-t] - dd[t:] # lag-differences as features\n",
    "            dddd = np.append(dddd, ddd, axis=1)\n",
    "        trajs.append(dddd)\n",
    "print ('samples,features', trajs[0].shape)    \n",
    "print ('#data', len(trajs))"
   ]
  },
  {
   "cell_type": "code",
   "execution_count": 5,
   "metadata": {},
   "outputs": [],
   "source": [
    "mdl = VDE(trajs[0].shape[-1], lag_time=lag_time,\n",
    "          hidden_size=256, hidden_layer_depth=3,\n",
    "          batch_size=100, n_epochs=1, cuda=False, \n",
    "          sliding_window=False, dropout_rate=0.3,\n",
    "          learning_rate=1E-3, autocorr=True)"
   ]
  },
  {
   "cell_type": "code",
   "execution_count": 7,
   "metadata": {},
   "outputs": [
    {
     "name": "stdout",
     "output_type": "stream",
     "text": [
      "Epoch: 0\n",
      "Batch 100, loss = 1.1170\n",
      "rec_loss = 0.1400, autocorr_loss = 0.9770\n",
      "Batch 200, loss = 1.0547\n",
      "rec_loss = 0.1003, autocorr_loss = 0.9544\n",
      "Batch 300, loss = 0.9983\n",
      "rec_loss = 0.0775, autocorr_loss = 0.9208\n",
      "Batch 400, loss = 1.0175\n",
      "rec_loss = 0.0507, autocorr_loss = 0.9667\n",
      "Batch 500, loss = 0.8834\n",
      "rec_loss = 0.0610, autocorr_loss = 0.8224\n",
      "Batch 600, loss = 0.6471\n",
      "rec_loss = 0.0288, autocorr_loss = 0.6183\n",
      "Batch 700, loss = 0.7128\n",
      "rec_loss = 0.0305, autocorr_loss = 0.6823\n",
      "Batch 800, loss = 0.6670\n",
      "rec_loss = 0.0241, autocorr_loss = 0.6430\n",
      "Batch 900, loss = 0.8033\n",
      "rec_loss = 0.0248, autocorr_loss = 0.7785\n",
      "Batch 1000, loss = 0.8740\n",
      "rec_loss = 0.0184, autocorr_loss = 0.8556\n",
      "Batch 1100, loss = 0.7816\n",
      "rec_loss = 0.0181, autocorr_loss = 0.7635\n",
      "Batch 1200, loss = 0.8548\n",
      "rec_loss = 0.0186, autocorr_loss = 0.8363\n",
      "Batch 1300, loss = 0.7524\n",
      "rec_loss = 0.0153, autocorr_loss = 0.7371\n",
      "Batch 1400, loss = 0.8712\n",
      "rec_loss = 0.0132, autocorr_loss = 0.8580\n",
      "Batch 1500, loss = 0.7072\n",
      "rec_loss = 0.0171, autocorr_loss = 0.6901\n",
      "Batch 1600, loss = 0.7556\n",
      "rec_loss = 0.0133, autocorr_loss = 0.7424\n"
     ]
    }
   ],
   "source": [
    "# for some reasons autocorr_loss does behave properly!\n",
    "mdl.fit(trajs)"
   ]
  },
  {
   "cell_type": "code",
   "execution_count": null,
   "metadata": {},
   "outputs": [],
   "source": []
  }
 ],
 "metadata": {
  "kernelspec": {
   "display_name": "Python 3",
   "language": "python",
   "name": "python3"
  },
  "language_info": {
   "codemirror_mode": {
    "name": "ipython",
    "version": 3
   },
   "file_extension": ".py",
   "mimetype": "text/x-python",
   "name": "python",
   "nbconvert_exporter": "python",
   "pygments_lexer": "ipython3",
   "version": "3.6.6"
  }
 },
 "nbformat": 4,
 "nbformat_minor": 2
}
